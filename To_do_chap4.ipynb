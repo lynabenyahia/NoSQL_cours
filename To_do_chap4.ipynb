{
 "cells": [
  {
   "attachments": {},
   "cell_type": "markdown",
   "metadata": {},
   "source": [
    "### Exercises\n",
    "\n",
    "#### CRUD operations:\n",
    "\n",
    "\n",
    "**TODO 1**: You will continue to work on the MCU network for a while. Who are the 10 fastest in the MCU ? Are they related to each other ?"
   ]
  },
  {
   "cell_type": "code",
   "execution_count": 12,
   "metadata": {},
   "outputs": [
    {
     "name": "stdout",
     "output_type": "stream",
     "text": [
      "'Black Bolt'\t100\n",
      "'Stardust'\t100\n",
      "'Quicksilver'\t100\n",
      "'Nova'\t100\n",
      "'Thor'\t92\n",
      "'Silver Surfer'\t84\n",
      "'Galactus'\t83\n",
      "'Dormammu'\t83\n",
      "'Ego'\t83\n",
      "'Northstar'\t83\n"
     ]
    }
   ],
   "source": [
    "# Retourne les 10 plus rapides\n",
    "import py2neo\n",
    "graph = py2neo.Graph(\"bolt://localhost:7687\", auth=(\"neo4j\", \"password_tuts\"), name=\"mcu\")\n",
    "\n",
    "query = \"\"\"MATCH (n:Superhero)\n",
    "WHERE (n.Speed) IS NOT NULL\n",
    "RETURN n.name, n.Speed\n",
    "ORDER BY n.Speed DESC\n",
    "LIMIT 10\"\"\"\n",
    "\n",
    "results = graph.run(query)\n",
    "\n",
    "for record in results:\n",
    "    print(record)"
   ]
  },
  {
   "cell_type": "code",
   "execution_count": 16,
   "metadata": {},
   "outputs": [
    {
     "name": "stdout",
     "output_type": "stream",
     "text": [
      "'Ego'\t'Galactus'\n",
      "'Dormammu'\t'Galactus'\n",
      "'Black Bolt'\t'Galactus'\n",
      "'Northstar'\t'Galactus'\n",
      "'Nova'\t'Galactus'\n",
      "'Stardust'\t'Galactus'\n",
      "'Silver Surfer'\t'Galactus'\n",
      "'Quicksilver'\t'Galactus'\n",
      "'Thor'\t'Galactus'\n",
      "'Ego'\t'Silver Surfer'\n",
      "'Nova'\t'Silver Surfer'\n",
      "'Quicksilver'\t'Silver Surfer'\n",
      "'Black Bolt'\t'Silver Surfer'\n",
      "'Galactus'\t'Silver Surfer'\n",
      "'Dormammu'\t'Silver Surfer'\n",
      "'Stardust'\t'Silver Surfer'\n",
      "'Thor'\t'Silver Surfer'\n",
      "'Northstar'\t'Thor'\n",
      "'Ego'\t'Thor'\n",
      "'Silver Surfer'\t'Thor'\n",
      "'Nova'\t'Thor'\n",
      "'Black Bolt'\t'Thor'\n",
      "'Galactus'\t'Thor'\n",
      "'Quicksilver'\t'Thor'\n",
      "'Dormammu'\t'Thor'\n",
      "'Dormammu'\t'Quicksilver'\n",
      "'Ego'\t'Quicksilver'\n",
      "'Nova'\t'Quicksilver'\n",
      "'Galactus'\t'Quicksilver'\n",
      "'Black Bolt'\t'Quicksilver'\n",
      "'Northstar'\t'Quicksilver'\n",
      "'Silver Surfer'\t'Quicksilver'\n",
      "'Thor'\t'Quicksilver'\n",
      "'Quicksilver'\t'Dormammu'\n",
      "'Galactus'\t'Dormammu'\n",
      "'Thor'\t'Dormammu'\n",
      "'Silver Surfer'\t'Dormammu'\n",
      "'Galactus'\t'Ego'\n",
      "'Thor'\t'Ego'\n",
      "'Nova'\t'Ego'\n",
      "'Silver Surfer'\t'Ego'\n",
      "'Quicksilver'\t'Ego'\n",
      "'Black Bolt'\t'Nova'\n",
      "'Ego'\t'Nova'\n",
      "'Galactus'\t'Nova'\n",
      "'Silver Surfer'\t'Nova'\n",
      "'Quicksilver'\t'Nova'\n",
      "'Thor'\t'Nova'\n",
      "'Nova'\t'Black Bolt'\n",
      "'Galactus'\t'Black Bolt'\n",
      "'Quicksilver'\t'Black Bolt'\n",
      "'Thor'\t'Black Bolt'\n",
      "'Silver Surfer'\t'Black Bolt'\n",
      "'Galactus'\t'Northstar'\n",
      "'Thor'\t'Northstar'\n",
      "'Quicksilver'\t'Northstar'\n",
      "'Silver Surfer'\t'Stardust'\n",
      "'Galactus'\t'Stardust'\n"
     ]
    }
   ],
   "source": [
    "# Retourne les relations entre les super-héros spécifiés\n",
    "\n",
    "import py2neo\n",
    "graph = py2neo.Graph(\"bolt://localhost:7687\", auth=(\"neo4j\", \"password_tuts\"), name=\"mcu\")\n",
    "\n",
    "query = \"\"\"MATCH (n:Superhero)-[r]-(m:Superhero)\n",
    "WHERE n.name IN ['Black Bolt', 'Stardust', 'Quicksilver', 'Nova', 'Thor', 'Silver Surfer', 'Galactus', 'Dormammu', 'Ego', 'Northstar']\n",
    "AND m.name IN ['Black Bolt', 'Stardust', 'Quicksilver', 'Nova', 'Thor', 'Silver Surfer', 'Galactus', 'Dormammu', 'Ego', 'Northstar']\n",
    "RETURN n.name, m.name\"\"\"\n",
    "\n",
    "results = graph.run(query)\n",
    "\n",
    "for record in results:\n",
    "    print(record)\n"
   ]
  },
  {
   "attachments": {},
   "cell_type": "markdown",
   "metadata": {},
   "source": [
    "**TODO 2**: How many have collaborated atleast more than 10 times with another superhero?"
   ]
  },
  {
   "cell_type": "code",
   "execution_count": 34,
   "metadata": {},
   "outputs": [
    {
     "name": "stdout",
     "output_type": "stream",
     "text": [
      "565 super héros ont collaboré plus de 10 fois avec un autre super héro\n"
     ]
    }
   ],
   "source": [
    "import py2neo\n",
    "graph = py2neo.Graph(\"bolt://localhost:7687\", auth=(\"neo4j\", \"password_tuts\"), name=\"mcu\")\n",
    "\n",
    "query = \"\"\"MATCH (a:Superhero)-[r:RELATION]-(b:Superhero)\n",
    "WHERE r.n_collab >= 10\n",
    "WITH a\n",
    "MATCH (a)-[r:RELATION]-(b:Superhero)\n",
    "WHERE r.n_collab >= 10\n",
    "RETURN COUNT(DISTINCT a)\"\"\"\n",
    "\n",
    "result = graph.run(query).evaluate()\n",
    "print(f\"{result} super héros ont collaboré plus de 10 fois avec un autre super héro\")\n"
   ]
  },
  {
   "attachments": {},
   "cell_type": "markdown",
   "metadata": {},
   "source": [
    "**TODO 3**: Did the weakest of the MCU collaborated with the strongest ?"
   ]
  },
  {
   "cell_type": "code",
   "execution_count": 32,
   "metadata": {},
   "outputs": [
    {
     "name": "stdout",
     "output_type": "stream",
     "text": [
      "Lady Deathstrike n'a pas collaboré avec Stardust\n"
     ]
    }
   ],
   "source": [
    "import py2neo\n",
    "graph = py2neo.Graph(\"bolt://localhost:7687\", auth=(\"neo4j\", \"password_tuts\"), name=\"mcu\")\n",
    "\n",
    "# Le plus faible\n",
    "query_weakest = \"\"\"MATCH (n:Superhero)\n",
    "WHERE (n.Total) IS NOT NULL\n",
    "RETURN n.name\n",
    "ORDER BY n.Total\n",
    "LIMIT 1\"\"\"\n",
    "result_weakest = graph.run(query_weakest).evaluate()\n",
    "\n",
    "# Le plus fort\n",
    "query_strongest = \"\"\"MATCH (n:Superhero)\n",
    "WHERE (n.Total) IS NOT NULL\n",
    "RETURN n.name\n",
    "ORDER BY n.Total DESC\n",
    "LIMIT 1\"\"\"\n",
    "result_strongest = graph.run(query_strongest).evaluate()\n",
    "\n",
    "# Chercher une éventuelle collaboration\n",
    "query_relation = f\"\"\"MATCH (a:Superhero {{name: \"{result_weakest}\"}})-[r:RELATION]-(b:Superhero {{name: \"{result_strongest}\"}})\n",
    "RETURN COUNT(r)\"\"\"\n",
    "result_relation = graph.run(query_relation).evaluate()\n",
    "\n",
    "if result_relation > 0:\n",
    "    print(f\"{result_weakest} a collaboré avec {result_strongest}\")\n",
    "else:\n",
    "    print(f\"{result_weakest} n'a pas collaboré avec {result_strongest}\")"
   ]
  },
  {
   "attachments": {},
   "cell_type": "markdown",
   "metadata": {},
   "source": [
    "**TODO 4**: Give a stats that interests you !"
   ]
  },
  {
   "cell_type": "code",
   "execution_count": 36,
   "metadata": {},
   "outputs": [
    {
     "name": "stdout",
     "output_type": "stream",
     "text": [
      "'Vision'\t100\n",
      "'Kang'\t100\n",
      "'Professor X'\t100\n",
      "'Doctor Doom'\t100\n",
      "'Leader'\t100\n",
      "'Galactus'\t100\n",
      "'Jean Grey'\t100\n",
      "'Doctor Strange'\t100\n",
      "'Iron Man'\t100\n",
      "'Apocalypse'\t100\n"
     ]
    }
   ],
   "source": [
    "# The 5 most intelligent\n",
    "import py2neo\n",
    "graph = py2neo.Graph(\"bolt://localhost:7687\", auth=(\"neo4j\", \"password_tuts\"), name=\"mcu\")\n",
    "\n",
    "query = \"\"\"MATCH (n:Superhero)\n",
    "WHERE (n.Intelligence) IS NOT NULL\n",
    "RETURN n.name, n.Intelligence\n",
    "ORDER BY n.Intelligence DESC\n",
    "LIMIT 10\"\"\"\n",
    "\n",
    "results = graph.run(query)\n",
    "\n",
    "for record in results:\n",
    "    print(record)"
   ]
  },
  {
   "attachments": {},
   "cell_type": "markdown",
   "metadata": {},
   "source": [
    "**TODO 5**: Create a new db called \"master\". Create a graph from the M1 class with name and random age between 20 and 30, Group of 3 that collab (undirected relation)."
   ]
  },
  {
   "cell_type": "code",
   "execution_count": 27,
   "metadata": {},
   "outputs": [],
   "source": [
    "import py2neo\n",
    "import random\n",
    "\n",
    "graph = py2neo.Graph(\"bolt://localhost:7687\", auth=(\"neo4j\", \"password_tuts\"), name=\"master\")\n",
    "\n",
    "noms = ['A', 'B', 'C', 'D', 'E', 'F', 'G', 'H', 'I']\n",
    "personnes = [py2neo.Node(\"M1\", name=nom, age=random.randint(20, 30)) for nom in noms]\n",
    "\n",
    "for personne in personnes:\n",
    "    graph.create(personne)\n",
    "\n",
    "# Créer des groupes de 3 en supprimant à chaque fois les élèves dans les groupes formés (afin de ne pas avoir l'élève A dans 2 groupes)\n",
    "groupes = []\n",
    "while len(personnes) >= 3:\n",
    "    groupe = random.sample(personnes, 3)\n",
    "    groupes.append(groupe)\n",
    "    for personne in groupe:\n",
    "        personnes.remove(personne)\n",
    "\n",
    "for groupe in groupes:\n",
    "    for i, j in zip(groupe, groupe[1:] + [groupe[0]]):\n",
    "        relation = py2neo.Relationship(i, \"collab\", j)\n",
    "        graph.create(relation)"
   ]
  },
  {
   "attachments": {},
   "cell_type": "markdown",
   "metadata": {},
   "source": [
    "**TODO 6**: Get the age for people YOU collaborate with."
   ]
  },
  {
   "cell_type": "code",
   "execution_count": 29,
   "metadata": {},
   "outputs": [
    {
     "name": "stdout",
     "output_type": "stream",
     "text": [
      " b.name | b.age \n",
      "--------|-------\n",
      " D      |    27 \n",
      " H      |    26 \n",
      "\n"
     ]
    }
   ],
   "source": [
    "# Supposons que je sois l'élève A\n",
    "import py2neo\n",
    "graph = py2neo.Graph(\"bolt://localhost:7687\", auth=(\"neo4j\", \"password_tuts\"), name=\"master\")\n",
    "\n",
    "query = \"\"\"MATCH (a:M1 {name:\"A\"})-[:collab]-(b:M1)\n",
    "RETURN b.name, b.age\"\"\"\n",
    "\n",
    "results = graph.run(query)\n",
    "print(results)"
   ]
  },
  {
   "attachments": {},
   "cell_type": "markdown",
   "metadata": {},
   "source": [
    "**TODO 7**: Get nodes with age > 25."
   ]
  },
  {
   "cell_type": "code",
   "execution_count": 34,
   "metadata": {},
   "outputs": [
    {
     "name": "stdout",
     "output_type": "stream",
     "text": [
      "  a.name  a.age\n",
      "0      A     27\n",
      "1      B     29\n",
      "2      C     28\n",
      "3      D     27\n",
      "4      E     29\n",
      "5      F     27\n",
      "6      H     26\n",
      "7      I     27\n"
     ]
    }
   ],
   "source": [
    "import py2neo\n",
    "graph = py2neo.Graph(\"bolt://localhost:7687\", auth=(\"neo4j\", \"password_tuts\"), name=\"master\")\n",
    "\n",
    "query = \"\"\"MATCH (a:M1)\n",
    "WHERE a.age > 25\n",
    "RETURN a.name, a.age\"\"\"\n",
    "\n",
    "df = graph.run(query).to_data_frame()\n",
    "print(df)"
   ]
  },
  {
   "attachments": {},
   "cell_type": "markdown",
   "metadata": {},
   "source": [
    "### Real world problem:\n",
    "\n",
    "**TODO 8**: Using the downloaded data in TODO 11 of chapter II, create a collaboration network between authors for papers after 2021 (same author if same name). Insert it in neo4j in a db called \"arxiv\"."
   ]
  },
  {
   "cell_type": "markdown",
   "metadata": {},
   "source": [
    "**TODO 9**: Get the density of degrees of the collaboration network\n",
    "\n",
    "**TODO 10**: Do a for loop for i in range(500) for each i remove nodes with a degree less than i.\n"
   ]
  }
 ],
 "metadata": {
  "kernelspec": {
   "display_name": "base",
   "language": "python",
   "name": "python3"
  },
  "language_info": {
   "codemirror_mode": {
    "name": "ipython",
    "version": 3
   },
   "file_extension": ".py",
   "mimetype": "text/x-python",
   "name": "python",
   "nbconvert_exporter": "python",
   "pygments_lexer": "ipython3",
   "version": "3.9.13"
  },
  "orig_nbformat": 4
 },
 "nbformat": 4,
 "nbformat_minor": 2
}
