{
 "cells": [
  {
   "cell_type": "code",
   "execution_count": 1,
   "id": "cd6d5afb",
   "metadata": {},
   "outputs": [
    {
     "name": "stdout",
     "output_type": "stream",
     "text": [
      "569\n",
      "33\n"
     ]
    }
   ],
   "source": [
    "import pandas as pd\n",
    "import sqlite3\n",
    "import tqdm\n",
    "import random\n",
    "\n",
    "# Exercise\n",
    "\n",
    "# TODO 1: Read all the data from bc.csv, how many rows is there ? Columns ?\n",
    "\n",
    "# Ouverture de la base de données\n",
    "df = pd.read_csv(\"data/Chap1/bc.csv\")\n",
    "\n",
    "# Nombre de lignes\n",
    "print(len(df.axes[0]))\n",
    "\n",
    "# Nombre de colonnes\n",
    "print(len(df.axes[1]))"
   ]
  },
  {
   "cell_type": "code",
   "execution_count": 61,
   "id": "ee544600",
   "metadata": {},
   "outputs": [],
   "source": [
    "# TODO 2: Insert the bc.csv in the sqlite format.\n",
    "conn = sqlite3.connect('data/bc.db')\n",
    "c = conn.cursor()"
   ]
  },
  {
   "cell_type": "code",
   "execution_count": 62,
   "id": "a39f1a48",
   "metadata": {},
   "outputs": [],
   "source": [
    "#TODO 3: In the same db create a new table called tomatch with two variables id_ and rdm_float.\n",
    "def create_table():\n",
    "    try:\n",
    "        c.execute(\"\"\"CREATE TABLE IF NOT EXISTS tomatch(id_ INT PRIMARY KEY, \"rdm_float\" FLOAT)\"\"\")\n",
    "        conn.commit()\n",
    "    except Exception as e:\n",
    "        print(str(e))\n",
    "        \n",
    "create_table()"
   ]
  },
  {
   "cell_type": "code",
   "execution_count": 63,
   "id": "bfbc133d",
   "metadata": {},
   "outputs": [
    {
     "name": "stderr",
     "output_type": "stream",
     "text": [
      "100%|█████████████████████████████| 4975000/4975000 [00:08<00:00, 621804.97it/s]\n"
     ]
    }
   ],
   "source": [
    "#TODO 4: In the table tomatch insert observations where the id_ starts from 50k, ends at 10000000 and is only even numbers. rdm_float is a float random for each observation.\n",
    "query = \"\"\"INSERT INTO tomatch(id_,rdm_float) VALUES (?,random())\"\"\"\n",
    "\n",
    "list_of_insertion = []\n",
    "for i in tqdm.tqdm(range(50000,10000000,2)):\n",
    "    values = (i,)\n",
    "    list_of_insertion.append(values)\n",
    "    if len(list_of_insertion) == 10000:\n",
    "        c.executemany(query, list_of_insertion)\n",
    "        conn.commit()\n",
    "        list_of_insertion = []"
   ]
  },
  {
   "cell_type": "code",
   "execution_count": 64,
   "id": "4ad8354b",
   "metadata": {},
   "outputs": [
    {
     "name": "stdout",
     "output_type": "stream",
     "text": [
      "[(1.4980062458408022e+17, 243, 9.172732098943238e+18, -9.189344035063669e+18, 3.640155177393149e+19)]\n"
     ]
    }
   ],
   "source": [
    "#TODO 5: Do an Inner join between the two tables and compute the different aggregate functions on a column of your choice.\n",
    "c.execute(\"\"\"SELECT avg(rdm_float), count(rdm_float), max(rdm_float), min(rdm_float), sum(rdm_float) FROM bc\n",
    "             INNER JOIN tomatch ON tomatch.id_=bc.id\"\"\")\n",
    "\n",
    "docs = c.fetchall()\n",
    "print(docs)"
   ]
  },
  {
   "cell_type": "code",
   "execution_count": 65,
   "id": "f001d0c7",
   "metadata": {},
   "outputs": [
    {
     "name": "stdout",
     "output_type": "stream",
     "text": [
      "[(173,)]\n",
      "[(106,)]\n"
     ]
    }
   ],
   "source": [
    "#TODO 6: How many observations have a radius_mean greater than 15 ? From them how many have a texture_mean greater than 20 ?\n",
    "c.execute(\"\"\"SELECT count(radius_mean) FROM bc\n",
    "             WHERE \"radius_mean\" > 15\"\"\")\n",
    "docs2 = c.fetchall()\n",
    "print(docs2)\n",
    "\n",
    "c.execute(\"\"\"SELECT count(texture_mean) FROM bc\n",
    "             WHERE \"radius_mean\" > 15 AND \"texture_mean\" > 20\"\"\")\n",
    "docs3 = c.fetchall()\n",
    "print(docs3)"
   ]
  },
  {
   "cell_type": "code",
   "execution_count": 66,
   "id": "1fd0cd61",
   "metadata": {},
   "outputs": [
    {
     "name": "stdout",
     "output_type": "stream",
     "text": [
      "[('B', 12.15), ('M', 17.46)]\n",
      "5.31\n"
     ]
    }
   ],
   "source": [
    "#TODO 7: For each category in diagnosis do the mean of a variable and round it to get only 2 numbers after the comma. Compute the difference between the mean of both groups\n",
    "c.execute(\"\"\"SELECT diagnosis, round(avg(radius_mean),2) FROM bc GROUP BY diagnosis\"\"\")\n",
    "docs4 = c.fetchall()\n",
    "print(docs4)\n",
    "print(round((docs4[1][1] - docs4[0][1]),2))"
   ]
  },
  {
   "cell_type": "code",
   "execution_count": 67,
   "id": "20abc614",
   "metadata": {},
   "outputs": [],
   "source": [
    "#TODO 8: Change the name of the column \"diagnosis\" to \"label\"\n",
    "c.execute(\"\"\"ALTER TABLE bc RENAME COLUMN diagnosis TO label\"\"\")\n",
    "conn.commit()"
   ]
  },
  {
   "cell_type": "code",
   "execution_count": 68,
   "id": "0993ed65",
   "metadata": {},
   "outputs": [],
   "source": [
    "#TODO 9: Add a column named \"day\" of type DATE.\n",
    "c.execute(\"\"\"ALTER TABLE bc ADD day DATE\"\"\")\n",
    "conn.commit()"
   ]
  },
  {
   "cell_type": "code",
   "execution_count": 69,
   "id": "02d66461",
   "metadata": {},
   "outputs": [],
   "source": [
    "#TODO 10: Change the type of the column \"area_mean\" to int (hint, not possible on sqlite, create a new column)\n",
    "c.execute(\"ALTER TABLE bc ADD COLUMN area_mean_integer INTEGER\")\n",
    "conn.commit()\n",
    "c.execute(\"UPDATE bc SET area_mean_integer = CAST(area_mean AS INTEGER)\")\n",
    "conn.commit()"
   ]
  },
  {
   "cell_type": "code",
   "execution_count": 70,
   "id": "23d6cc9f",
   "metadata": {},
   "outputs": [
    {
     "name": "stderr",
     "output_type": "stream",
     "text": [
      "100%|███████████████████████████████| 995000/995000 [00:01<00:00, 609477.40it/s]\n"
     ]
    }
   ],
   "source": [
    "#TODO 11: create a new table called tomatch2 exactly the same way as tomatch except you increment id_ by 10.\n",
    "c.execute(\"\"\"CREATE TABLE IF NOT EXISTS tomatch2(id_ INT PRIMARY KEY, \"rdm_float\" FLOAT)\"\"\")\n",
    "conn.commit()\n",
    "\n",
    "query = \"\"\"INSERT INTO tomatch2(id_,rdm_float) VALUES (?,random())\"\"\"\n",
    "\n",
    "list_of_insertion = []\n",
    "for i in tqdm.tqdm(range(50000,10000000,10)):\n",
    "    values = (i,)\n",
    "    list_of_insertion.append(values)\n",
    "    if len(list_of_insertion) == 10000:\n",
    "        c.executemany(query, list_of_insertion)\n",
    "        conn.commit()\n",
    "        list_of_insertion = []"
   ]
  },
  {
   "cell_type": "code",
   "execution_count": 71,
   "id": "ced444ea",
   "metadata": {},
   "outputs": [
    {
     "name": "stdout",
     "output_type": "stream",
     "text": [
      "[(879830, 'M', 17.01, 20.26, 109.7, 904.3, 0.08772, 0.07304, 0.0695, 0.0539, 0.2026, 0.05223, 0.5858, 0.8554, 4.106, 68.46, 0.005038, 0.01503, 0.01946, 0.01123, 0.02294, 0.002581, 19.8, 25.05, 130.0, 1210, 0.1111, 0.1486, 0.1932, 0.1096, 0.3275, 0.06469, None, None, 904, 879830, 1.8785959356047283e+18, 879830, 7.402616299114416e+18), (915460, 'M', 15.46, 23.95, 103.8, 731.3, 0.1183, 0.187, 0.203, 0.0852, 0.1807, 0.07083, 0.3331, 1.961, 2.937, 32.52, 0.009538, 0.0494, 0.06019, 0.02041, 0.02105, 0.006, 17.11, 36.33, 117.7, 909.4, 0.1732, 0.4967, 0.5911, 0.2163, 0.3013, 0.1067, None, None, 731, 915460, 2.0734103071453485e+17, 915460, 5.801732882903427e+18)]\n"
     ]
    }
   ],
   "source": [
    "#TODO 12: Do an inner join of bc, tomatch and tomatch2 where the radius_mean is greater than 15, and the rdm_float is greater than 0.50 in tomatch AND tomatch2.\n",
    "c.execute(\"\"\"SELECT * FROM bc\n",
    "             INNER JOIN tomatch2 ON tomatch2.id_ = bc.id\n",
    "             INNER JOIN tomatch ON tomatch.id_ = bc.id\n",
    "             WHERE bc.radius_mean > 15\n",
    "             AND tomatch.rdm_float > 0.5\n",
    "             AND tomatch2.rdm_float > 0.5\"\"\")\n",
    "docs5 = c.fetchall()\n",
    "print(docs5)"
   ]
  }
 ],
 "metadata": {
  "kernelspec": {
   "display_name": "Python 3 (ipykernel)",
   "language": "python",
   "name": "python3"
  },
  "language_info": {
   "codemirror_mode": {
    "name": "ipython",
    "version": 3
   },
   "file_extension": ".py",
   "mimetype": "text/x-python",
   "name": "python",
   "nbconvert_exporter": "python",
   "pygments_lexer": "ipython3",
   "version": "3.9.13"
  }
 },
 "nbformat": 4,
 "nbformat_minor": 5
}
